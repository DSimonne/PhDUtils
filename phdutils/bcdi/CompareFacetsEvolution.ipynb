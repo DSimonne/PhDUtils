{
 "cells": [
  {
   "cell_type": "code",
   "execution_count": null,
   "id": "social-ozone",
   "metadata": {},
   "outputs": [],
   "source": [
    "from phdutils.bcdi import read_vtk\n",
    "import numpy as np\n",
    "import matplotlib.pyplot as plt"
   ]
  },
  {
   "cell_type": "code",
   "execution_count": null,
   "id": "challenging-empire",
   "metadata": {},
   "outputs": [],
   "source": [
    "scan = "
   ]
  },
  {
   "cell_type": "code",
   "execution_count": null,
   "id": "representative-large",
   "metadata": {},
   "outputs": [],
   "source": [
    "Facets = read_vtk.Facets(pathdir = \"./\", filename = f\"{scan}_fa.vtk\")"
   ]
  },
  {
   "cell_type": "code",
   "execution_count": null,
   "id": "strategic-atlanta",
   "metadata": {
    "scrolled": false
   },
   "outputs": [],
   "source": [
    "Facets.extract_facet(10, plot = True, view = [90, 0], output=False)"
   ]
  },
  {
   "cell_type": "code",
   "execution_count": null,
   "id": "union-passing",
   "metadata": {
    "scrolled": false
   },
   "outputs": [],
   "source": [
    "Facets.extract_facet(11, plot = True, view = [90,0 ], output=False)"
   ]
  },
  {
   "cell_type": "code",
   "execution_count": null,
   "id": "hollow-scoop",
   "metadata": {},
   "outputs": [],
   "source": [
    "u = np.array([Facets.field_data.n0[10], Facets.field_data.n1[10], Facets.field_data.n2[10]])\n",
    "v = np.array([Facets.field_data.n0[9], Facets.field_data.n1[9], Facets.field_data.n2[9]])"
   ]
  },
  {
   "cell_type": "code",
   "execution_count": null,
   "id": "exposed-resident",
   "metadata": {},
   "outputs": [],
   "source": [
    "u, v"
   ]
  },
  {
   "cell_type": "code",
   "execution_count": null,
   "id": "hollow-thomson",
   "metadata": {},
   "outputs": [],
   "source": [
    "Facets.set_rotation_matrix(\n",
    "    u0 = [1, 1, 1]/np.sqrt(3),\n",
    "    v0 = [1, -1, 0]/np.sqrt(2),\n",
    "    w0 = [1, 1, -2]/np.sqrt(6),\n",
    "    u = u, # facet n°11, the top one\n",
    "    v = v # facet n°6, the one biggest one on the side, third biggest after the 111\n",
    ")"
   ]
  },
  {
   "cell_type": "code",
   "execution_count": null,
   "id": "thousand-pregnancy",
   "metadata": {},
   "outputs": [],
   "source": [
    "Facets.rotate_particle()"
   ]
  },
  {
   "cell_type": "code",
   "execution_count": null,
   "id": "unlimited-charter",
   "metadata": {},
   "outputs": [],
   "source": [
    "Facets.fixed_reference()"
   ]
  },
  {
   "cell_type": "code",
   "execution_count": null,
   "id": "civil-acrobat",
   "metadata": {},
   "outputs": [],
   "source": [
    "Facets.field_data"
   ]
  },
  {
   "cell_type": "code",
   "execution_count": null,
   "id": "narrow-optimization",
   "metadata": {
    "scrolled": false
   },
   "outputs": [],
   "source": [
    "Facets.plot_strain()"
   ]
  },
  {
   "cell_type": "code",
   "execution_count": null,
   "id": "gothic-declaration",
   "metadata": {
    "scrolled": false
   },
   "outputs": [],
   "source": [
    "Facets.plot_displacement()"
   ]
  },
  {
   "cell_type": "code",
   "execution_count": null,
   "id": "limiting-cause",
   "metadata": {
    "scrolled": false
   },
   "outputs": [],
   "source": [
    "Facets.evolution_curves()"
   ]
  },
  {
   "cell_type": "code",
   "execution_count": null,
   "id": "arctic-kansas",
   "metadata": {},
   "outputs": [],
   "source": [
    "Facets.field_data"
   ]
  },
  {
   "cell_type": "code",
   "execution_count": null,
   "id": "restricted-evidence",
   "metadata": {},
   "outputs": [],
   "source": [
    "Facets.save_data(f\"./facets_analysis/field_data_{scan}.csv\")"
   ]
  }
 ],
 "metadata": {
  "kernelspec": {
   "display_name": "Python 3",
   "language": "python",
   "name": "python3"
  },
  "language_info": {
   "codemirror_mode": {
    "name": "ipython",
    "version": 3
   },
   "file_extension": ".py",
   "mimetype": "text/x-python",
   "name": "python",
   "nbconvert_exporter": "python",
   "pygments_lexer": "ipython3",
   "version": "3.9.2"
  }
 },
 "nbformat": 4,
 "nbformat_minor": 5
}
